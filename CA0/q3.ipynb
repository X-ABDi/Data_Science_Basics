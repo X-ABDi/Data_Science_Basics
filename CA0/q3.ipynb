{
 "cells": [
  {
   "cell_type": "code",
   "execution_count": 68,
   "id": "0c9ba9ff",
   "metadata": {},
   "outputs": [],
   "source": [
    "import pandas as pd\n",
    "from scipy import stats\n",
    "df = pd.read_csv('drug_safety.csv')"
   ]
  },
  {
   "cell_type": "code",
   "execution_count": 69,
   "id": "14c116f8",
   "metadata": {},
   "outputs": [],
   "source": [
    "df = df.dropna()"
   ]
  },
  {
   "cell_type": "markdown",
   "id": "414de89b",
   "metadata": {},
   "source": [
    "just eliminated raws with nan value"
   ]
  },
  {
   "cell_type": "code",
   "execution_count": 70,
   "id": "12a9a407",
   "metadata": {},
   "outputs": [
    {
     "data": {
      "text/html": [
       "<div>\n",
       "<style scoped>\n",
       "    .dataframe tbody tr th:only-of-type {\n",
       "        vertical-align: middle;\n",
       "    }\n",
       "\n",
       "    .dataframe tbody tr th {\n",
       "        vertical-align: top;\n",
       "    }\n",
       "\n",
       "    .dataframe thead th {\n",
       "        text-align: right;\n",
       "    }\n",
       "</style>\n",
       "<table border=\"1\" class=\"dataframe\">\n",
       "  <thead>\n",
       "    <tr style=\"text-align: right;\">\n",
       "      <th></th>\n",
       "      <th>age</th>\n",
       "      <th>sex</th>\n",
       "      <th>trx</th>\n",
       "      <th>week</th>\n",
       "      <th>wbc</th>\n",
       "      <th>rbc</th>\n",
       "      <th>adverse_effects</th>\n",
       "      <th>num_effects</th>\n",
       "    </tr>\n",
       "  </thead>\n",
       "  <tbody>\n",
       "    <tr>\n",
       "      <th>0</th>\n",
       "      <td>62</td>\n",
       "      <td>male</td>\n",
       "      <td>Drug</td>\n",
       "      <td>0</td>\n",
       "      <td>7.3</td>\n",
       "      <td>5.1</td>\n",
       "      <td>No</td>\n",
       "      <td>0</td>\n",
       "    </tr>\n",
       "    <tr>\n",
       "      <th>2</th>\n",
       "      <td>62</td>\n",
       "      <td>male</td>\n",
       "      <td>Drug</td>\n",
       "      <td>12</td>\n",
       "      <td>5.6</td>\n",
       "      <td>5.0</td>\n",
       "      <td>No</td>\n",
       "      <td>0</td>\n",
       "    </tr>\n",
       "    <tr>\n",
       "      <th>4</th>\n",
       "      <td>62</td>\n",
       "      <td>male</td>\n",
       "      <td>Drug</td>\n",
       "      <td>2</td>\n",
       "      <td>6.6</td>\n",
       "      <td>5.1</td>\n",
       "      <td>No</td>\n",
       "      <td>0</td>\n",
       "    </tr>\n",
       "    <tr>\n",
       "      <th>6</th>\n",
       "      <td>62</td>\n",
       "      <td>male</td>\n",
       "      <td>Drug</td>\n",
       "      <td>4</td>\n",
       "      <td>6.9</td>\n",
       "      <td>5.2</td>\n",
       "      <td>Yes</td>\n",
       "      <td>1</td>\n",
       "    </tr>\n",
       "    <tr>\n",
       "      <th>7</th>\n",
       "      <td>62</td>\n",
       "      <td>male</td>\n",
       "      <td>Drug</td>\n",
       "      <td>8</td>\n",
       "      <td>7.1</td>\n",
       "      <td>5.0</td>\n",
       "      <td>Yes</td>\n",
       "      <td>1</td>\n",
       "    </tr>\n",
       "    <tr>\n",
       "      <th>...</th>\n",
       "      <td>...</td>\n",
       "      <td>...</td>\n",
       "      <td>...</td>\n",
       "      <td>...</td>\n",
       "      <td>...</td>\n",
       "      <td>...</td>\n",
       "      <td>...</td>\n",
       "      <td>...</td>\n",
       "    </tr>\n",
       "    <tr>\n",
       "      <th>16095</th>\n",
       "      <td>78</td>\n",
       "      <td>male</td>\n",
       "      <td>Placebo</td>\n",
       "      <td>0</td>\n",
       "      <td>7.2</td>\n",
       "      <td>5.0</td>\n",
       "      <td>No</td>\n",
       "      <td>0</td>\n",
       "    </tr>\n",
       "    <tr>\n",
       "      <th>16097</th>\n",
       "      <td>78</td>\n",
       "      <td>male</td>\n",
       "      <td>Placebo</td>\n",
       "      <td>12</td>\n",
       "      <td>6.5</td>\n",
       "      <td>4.9</td>\n",
       "      <td>No</td>\n",
       "      <td>0</td>\n",
       "    </tr>\n",
       "    <tr>\n",
       "      <th>16099</th>\n",
       "      <td>78</td>\n",
       "      <td>male</td>\n",
       "      <td>Placebo</td>\n",
       "      <td>2</td>\n",
       "      <td>7.5</td>\n",
       "      <td>4.9</td>\n",
       "      <td>No</td>\n",
       "      <td>0</td>\n",
       "    </tr>\n",
       "    <tr>\n",
       "      <th>16101</th>\n",
       "      <td>78</td>\n",
       "      <td>male</td>\n",
       "      <td>Placebo</td>\n",
       "      <td>4</td>\n",
       "      <td>6.4</td>\n",
       "      <td>4.8</td>\n",
       "      <td>No</td>\n",
       "      <td>0</td>\n",
       "    </tr>\n",
       "    <tr>\n",
       "      <th>16102</th>\n",
       "      <td>78</td>\n",
       "      <td>male</td>\n",
       "      <td>Placebo</td>\n",
       "      <td>8</td>\n",
       "      <td>7.8</td>\n",
       "      <td>4.8</td>\n",
       "      <td>No</td>\n",
       "      <td>0</td>\n",
       "    </tr>\n",
       "  </tbody>\n",
       "</table>\n",
       "<p>9127 rows × 8 columns</p>\n",
       "</div>"
      ],
      "text/plain": [
       "       age   sex      trx  week  wbc  rbc adverse_effects  num_effects\n",
       "0       62  male     Drug     0  7.3  5.1              No            0\n",
       "2       62  male     Drug    12  5.6  5.0              No            0\n",
       "4       62  male     Drug     2  6.6  5.1              No            0\n",
       "6       62  male     Drug     4  6.9  5.2             Yes            1\n",
       "7       62  male     Drug     8  7.1  5.0             Yes            1\n",
       "...    ...   ...      ...   ...  ...  ...             ...          ...\n",
       "16095   78  male  Placebo     0  7.2  5.0              No            0\n",
       "16097   78  male  Placebo    12  6.5  4.9              No            0\n",
       "16099   78  male  Placebo     2  7.5  4.9              No            0\n",
       "16101   78  male  Placebo     4  6.4  4.8              No            0\n",
       "16102   78  male  Placebo     8  7.8  4.8              No            0\n",
       "\n",
       "[9127 rows x 8 columns]"
      ]
     },
     "execution_count": 70,
     "metadata": {},
     "output_type": "execute_result"
    }
   ],
   "source": [
    "df"
   ]
  },
  {
   "cell_type": "code",
   "execution_count": 71,
   "id": "d8529438",
   "metadata": {},
   "outputs": [],
   "source": [
    "df.to_csv('without_nan.csv')"
   ]
  },
  {
   "cell_type": "code",
   "execution_count": 72,
   "id": "e927a164",
   "metadata": {},
   "outputs": [],
   "source": [
    "age_mean = df['age'].mean()"
   ]
  },
  {
   "cell_type": "code",
   "execution_count": 73,
   "id": "fba2d4ce",
   "metadata": {},
   "outputs": [
    {
     "data": {
      "text/plain": [
       "64.00766955187905"
      ]
     },
     "execution_count": 73,
     "metadata": {},
     "output_type": "execute_result"
    }
   ],
   "source": [
    "age_mean"
   ]
  },
  {
   "cell_type": "code",
   "execution_count": 74,
   "id": "235c6dac",
   "metadata": {},
   "outputs": [],
   "source": [
    "age_std = df['age'].std()"
   ]
  },
  {
   "cell_type": "code",
   "execution_count": 75,
   "id": "eb6c1e84",
   "metadata": {},
   "outputs": [
    {
     "data": {
      "text/plain": [
       "8.847711142073795"
      ]
     },
     "execution_count": 75,
     "metadata": {},
     "output_type": "execute_result"
    }
   ],
   "source": [
    "age_std"
   ]
  },
  {
   "cell_type": "code",
   "execution_count": 76,
   "id": "b13d8de8",
   "metadata": {},
   "outputs": [],
   "source": [
    "week_mean = df['week'].mean()"
   ]
  },
  {
   "cell_type": "code",
   "execution_count": 77,
   "id": "c77b6a69",
   "metadata": {},
   "outputs": [
    {
     "data": {
      "text/plain": [
       "4.985427851429824"
      ]
     },
     "execution_count": 77,
     "metadata": {},
     "output_type": "execute_result"
    }
   ],
   "source": [
    "week_mean"
   ]
  },
  {
   "cell_type": "code",
   "execution_count": 78,
   "id": "6aaee480",
   "metadata": {},
   "outputs": [],
   "source": [
    "week_std = df['week'].std()"
   ]
  },
  {
   "cell_type": "code",
   "execution_count": 79,
   "id": "69d22564",
   "metadata": {},
   "outputs": [
    {
     "data": {
      "text/plain": [
       "4.375397191252761"
      ]
     },
     "execution_count": 79,
     "metadata": {},
     "output_type": "execute_result"
    }
   ],
   "source": [
    "week_std"
   ]
  },
  {
   "cell_type": "code",
   "execution_count": 80,
   "id": "02d3d779",
   "metadata": {},
   "outputs": [],
   "source": [
    "wbc_mean = df['wbc'].mean()"
   ]
  },
  {
   "cell_type": "code",
   "execution_count": 81,
   "id": "cbc03224",
   "metadata": {},
   "outputs": [
    {
     "data": {
      "text/plain": [
       "7.3403308946346"
      ]
     },
     "execution_count": 81,
     "metadata": {},
     "output_type": "execute_result"
    }
   ],
   "source": [
    "wbc_mean"
   ]
  },
  {
   "cell_type": "code",
   "execution_count": 82,
   "id": "8ec0966a",
   "metadata": {},
   "outputs": [],
   "source": [
    "wbc_std = df['wbc'].std()"
   ]
  },
  {
   "cell_type": "code",
   "execution_count": 83,
   "id": "bf1b96e0",
   "metadata": {},
   "outputs": [
    {
     "data": {
      "text/plain": [
       "1.9966447939675274"
      ]
     },
     "execution_count": 83,
     "metadata": {},
     "output_type": "execute_result"
    }
   ],
   "source": [
    "wbc_std"
   ]
  },
  {
   "cell_type": "code",
   "execution_count": 84,
   "id": "96c6a955",
   "metadata": {},
   "outputs": [],
   "source": [
    "rbc_mean = df['rbc'].mean()"
   ]
  },
  {
   "cell_type": "code",
   "execution_count": 85,
   "id": "eb0c985a",
   "metadata": {},
   "outputs": [
    {
     "data": {
      "text/plain": [
       "4.672784046011833"
      ]
     },
     "execution_count": 85,
     "metadata": {},
     "output_type": "execute_result"
    }
   ],
   "source": [
    "rbc_mean"
   ]
  },
  {
   "cell_type": "code",
   "execution_count": 86,
   "id": "cc447eec",
   "metadata": {},
   "outputs": [],
   "source": [
    "rbc_std = df['rbc'].std()"
   ]
  },
  {
   "cell_type": "code",
   "execution_count": 87,
   "id": "c2cdb9f4",
   "metadata": {},
   "outputs": [
    {
     "data": {
      "text/plain": [
       "0.4585201587206342"
      ]
     },
     "execution_count": 87,
     "metadata": {},
     "output_type": "execute_result"
    }
   ],
   "source": [
    "rbc_std"
   ]
  },
  {
   "cell_type": "code",
   "execution_count": 126,
   "id": "eab86e42",
   "metadata": {},
   "outputs": [],
   "source": [
    "trx_obj = df.groupby(df['trx'])"
   ]
  },
  {
   "cell_type": "code",
   "execution_count": 127,
   "id": "27ac111e",
   "metadata": {},
   "outputs": [],
   "source": [
    "summary = trx_obj[['wbc', 'rbc', 'num_effects']].describe()"
   ]
  },
  {
   "cell_type": "code",
   "execution_count": 128,
   "id": "cd532b7b",
   "metadata": {},
   "outputs": [
    {
     "data": {
      "text/html": [
       "<div>\n",
       "<style scoped>\n",
       "    .dataframe tbody tr th:only-of-type {\n",
       "        vertical-align: middle;\n",
       "    }\n",
       "\n",
       "    .dataframe tbody tr th {\n",
       "        vertical-align: top;\n",
       "    }\n",
       "\n",
       "    .dataframe thead tr th {\n",
       "        text-align: left;\n",
       "    }\n",
       "\n",
       "    .dataframe thead tr:last-of-type th {\n",
       "        text-align: right;\n",
       "    }\n",
       "</style>\n",
       "<table border=\"1\" class=\"dataframe\">\n",
       "  <thead>\n",
       "    <tr>\n",
       "      <th></th>\n",
       "      <th colspan=\"8\" halign=\"left\">wbc</th>\n",
       "      <th colspan=\"5\" halign=\"left\">rbc</th>\n",
       "      <th colspan=\"8\" halign=\"left\">num_effects</th>\n",
       "    </tr>\n",
       "    <tr>\n",
       "      <th></th>\n",
       "      <th>count</th>\n",
       "      <th>mean</th>\n",
       "      <th>std</th>\n",
       "      <th>min</th>\n",
       "      <th>25%</th>\n",
       "      <th>50%</th>\n",
       "      <th>75%</th>\n",
       "      <th>max</th>\n",
       "      <th>count</th>\n",
       "      <th>mean</th>\n",
       "      <th>...</th>\n",
       "      <th>75%</th>\n",
       "      <th>max</th>\n",
       "      <th>count</th>\n",
       "      <th>mean</th>\n",
       "      <th>std</th>\n",
       "      <th>min</th>\n",
       "      <th>25%</th>\n",
       "      <th>50%</th>\n",
       "      <th>75%</th>\n",
       "      <th>max</th>\n",
       "    </tr>\n",
       "    <tr>\n",
       "      <th>trx</th>\n",
       "      <th></th>\n",
       "      <th></th>\n",
       "      <th></th>\n",
       "      <th></th>\n",
       "      <th></th>\n",
       "      <th></th>\n",
       "      <th></th>\n",
       "      <th></th>\n",
       "      <th></th>\n",
       "      <th></th>\n",
       "      <th></th>\n",
       "      <th></th>\n",
       "      <th></th>\n",
       "      <th></th>\n",
       "      <th></th>\n",
       "      <th></th>\n",
       "      <th></th>\n",
       "      <th></th>\n",
       "      <th></th>\n",
       "      <th></th>\n",
       "      <th></th>\n",
       "    </tr>\n",
       "  </thead>\n",
       "  <tbody>\n",
       "    <tr>\n",
       "      <th>Drug</th>\n",
       "      <td>6011.0</td>\n",
       "      <td>7.330461</td>\n",
       "      <td>2.008941</td>\n",
       "      <td>1.8</td>\n",
       "      <td>6.0</td>\n",
       "      <td>7.00</td>\n",
       "      <td>8.4</td>\n",
       "      <td>26.500000</td>\n",
       "      <td>6011.0</td>\n",
       "      <td>4.679130</td>\n",
       "      <td>...</td>\n",
       "      <td>5.0</td>\n",
       "      <td>7.5</td>\n",
       "      <td>6011.0</td>\n",
       "      <td>0.102479</td>\n",
       "      <td>0.325529</td>\n",
       "      <td>0.0</td>\n",
       "      <td>0.0</td>\n",
       "      <td>0.0</td>\n",
       "      <td>0.0</td>\n",
       "      <td>3.0</td>\n",
       "    </tr>\n",
       "    <tr>\n",
       "      <th>Placebo</th>\n",
       "      <td>3116.0</td>\n",
       "      <td>7.359371</td>\n",
       "      <td>1.972890</td>\n",
       "      <td>3.0</td>\n",
       "      <td>6.0</td>\n",
       "      <td>7.15</td>\n",
       "      <td>8.4</td>\n",
       "      <td>23.799999</td>\n",
       "      <td>3116.0</td>\n",
       "      <td>4.660542</td>\n",
       "      <td>...</td>\n",
       "      <td>5.0</td>\n",
       "      <td>7.6</td>\n",
       "      <td>3116.0</td>\n",
       "      <td>0.097561</td>\n",
       "      <td>0.315639</td>\n",
       "      <td>0.0</td>\n",
       "      <td>0.0</td>\n",
       "      <td>0.0</td>\n",
       "      <td>0.0</td>\n",
       "      <td>3.0</td>\n",
       "    </tr>\n",
       "  </tbody>\n",
       "</table>\n",
       "<p>2 rows × 24 columns</p>\n",
       "</div>"
      ],
      "text/plain": [
       "            wbc                                                         rbc  \\\n",
       "          count      mean       std  min  25%   50%  75%        max   count   \n",
       "trx                                                                           \n",
       "Drug     6011.0  7.330461  2.008941  1.8  6.0  7.00  8.4  26.500000  6011.0   \n",
       "Placebo  3116.0  7.359371  1.972890  3.0  6.0  7.15  8.4  23.799999  3116.0   \n",
       "\n",
       "                   ...           num_effects                                \\\n",
       "             mean  ...  75%  max       count      mean       std  min  25%   \n",
       "trx                ...                                                       \n",
       "Drug     4.679130  ...  5.0  7.5      6011.0  0.102479  0.325529  0.0  0.0   \n",
       "Placebo  4.660542  ...  5.0  7.6      3116.0  0.097561  0.315639  0.0  0.0   \n",
       "\n",
       "                        \n",
       "         50%  75%  max  \n",
       "trx                     \n",
       "Drug     0.0  0.0  3.0  \n",
       "Placebo  0.0  0.0  3.0  \n",
       "\n",
       "[2 rows x 24 columns]"
      ]
     },
     "execution_count": 128,
     "metadata": {},
     "output_type": "execute_result"
    }
   ],
   "source": [
    "summary"
   ]
  },
  {
   "cell_type": "code",
   "execution_count": 91,
   "id": "f56e8046",
   "metadata": {},
   "outputs": [],
   "source": [
    "df['adverse_effects'].replace('No', 0, inplace=True)"
   ]
  },
  {
   "cell_type": "code",
   "execution_count": 92,
   "id": "ce187b1b",
   "metadata": {},
   "outputs": [],
   "source": [
    "df['adverse_effects'].replace('Yes', 1, inplace=True)"
   ]
  },
  {
   "cell_type": "code",
   "execution_count": 93,
   "id": "325e6f48",
   "metadata": {},
   "outputs": [],
   "source": [
    "trx_obj = df.groupby(df['trx'])"
   ]
  },
  {
   "cell_type": "code",
   "execution_count": 94,
   "id": "4d7a0bb6",
   "metadata": {},
   "outputs": [],
   "source": [
    "m_wbc = trx_obj['wbc'].mean()\n",
    "s_wbc = trx_obj['wbc'].std()"
   ]
  },
  {
   "cell_type": "code",
   "execution_count": 120,
   "id": "a3406277",
   "metadata": {},
   "outputs": [
    {
     "data": {
      "text/plain": [
       "trx\n",
       "Drug       2.008941\n",
       "Placebo    1.972890\n",
       "Name: wbc, dtype: float64"
      ]
     },
     "execution_count": 120,
     "metadata": {},
     "output_type": "execute_result"
    }
   ],
   "source": [
    "s_wbc"
   ]
  },
  {
   "cell_type": "code",
   "execution_count": 122,
   "id": "11f4456d",
   "metadata": {},
   "outputs": [],
   "source": [
    "m_rbc = trx_obj['rbc'].mean()\n",
    "s_rbc = trx_obj['rbc'].std()"
   ]
  },
  {
   "cell_type": "code",
   "execution_count": 123,
   "id": "44875d7f",
   "metadata": {},
   "outputs": [
    {
     "data": {
      "text/plain": [
       "trx\n",
       "Drug       0.454990\n",
       "Placebo    0.465083\n",
       "Name: rbc, dtype: float64"
      ]
     },
     "execution_count": 123,
     "metadata": {},
     "output_type": "execute_result"
    }
   ],
   "source": [
    "s_rbc"
   ]
  },
  {
   "cell_type": "code",
   "execution_count": 96,
   "id": "80ca42e0",
   "metadata": {},
   "outputs": [],
   "source": [
    "m_num_eff = trx_obj['num_effects'].mean()\n",
    "s_num_eff = trx_obj['num_effects'].std()"
   ]
  },
  {
   "cell_type": "code",
   "execution_count": 124,
   "id": "759d11c9",
   "metadata": {},
   "outputs": [
    {
     "data": {
      "text/plain": [
       "trx\n",
       "Drug       0.325529\n",
       "Placebo    0.315639\n",
       "Name: num_effects, dtype: float64"
      ]
     },
     "execution_count": 124,
     "metadata": {},
     "output_type": "execute_result"
    }
   ],
   "source": [
    "s_num_eff"
   ]
  },
  {
   "cell_type": "code",
   "execution_count": 97,
   "id": "7f329fe2",
   "metadata": {},
   "outputs": [],
   "source": [
    "m_adv_eff = trx_obj['adverse_effects'].mean()\n",
    "s_adv_eff = trx_obj['adverse_effects'].std()"
   ]
  },
  {
   "cell_type": "code",
   "execution_count": 125,
   "id": "3e3646cd",
   "metadata": {},
   "outputs": [
    {
     "data": {
      "text/plain": [
       "trx\n",
       "Drug       0.294603\n",
       "Placebo    0.289221\n",
       "Name: adverse_effects, dtype: float64"
      ]
     },
     "execution_count": 125,
     "metadata": {},
     "output_type": "execute_result"
    }
   ],
   "source": [
    "s_adv_eff"
   ]
  },
  {
   "cell_type": "markdown",
   "id": "ba500495",
   "metadata": {},
   "source": [
    "t−Score=(m1-m2)/(s1^2/n1+s2^2/n2)^1/2"
   ]
  },
  {
   "cell_type": "markdown",
   "id": "738edcf3",
   "metadata": {},
   "source": [
    "df=n1+n2−2"
   ]
  },
  {
   "cell_type": "code",
   "execution_count": 98,
   "id": "3db5a329",
   "metadata": {},
   "outputs": [],
   "source": [
    "drug_group = df[df['trx'] == 'Drug']\n",
    "placebo_group = df[df['trx'] == 'Placebo']"
   ]
  },
  {
   "cell_type": "markdown",
   "id": "69941674",
   "metadata": {},
   "source": [
    "a function for performing t_test,, H0 = there is no significant difference.     H1 = there is a significant difference  "
   ]
  },
  {
   "cell_type": "markdown",
   "id": "e836ab94",
   "metadata": {},
   "source": [
    "-------------------"
   ]
  },
  {
   "cell_type": "markdown",
   "id": "ad30edff",
   "metadata": {},
   "source": [
    "the alternative argument decides about our comparison to be one_sided or two_sided,, in case of evaluating the difference, leave it as default means two_sided.\n",
    "the equal_var specifies if the two groups have the same variance or not, as seen above the variance differs in 'wbc' metric and is almost the same for other metrics, so by setting it to false we are assuming they are different for a more reliable outcome."
   ]
  },
  {
   "cell_type": "code",
   "execution_count": 101,
   "id": "8bce12b1",
   "metadata": {},
   "outputs": [],
   "source": [
    "def t_test(metric, alpha):\n",
    "    t_stat, p_value = stats.ttest_ind(drug_group[metric], placebo_group[metric], equal_var=False)\n",
    "    \n",
    "    if p_value < alpha:\n",
    "        print(\"There is a significant difference.\")\n",
    "    else:\n",
    "        print(\"There is no significant difference.\")\n",
    "    \n",
    "    return p_value"
   ]
  },
  {
   "cell_type": "markdown",
   "id": "828dbe2c",
   "metadata": {},
   "source": [
    "df['adverse_effects_numeric'] = df['adverse_effects'].map({'Yes': 1, 'No': 0})\n",
    "I could also use syntax above instead of replace() method"
   ]
  },
  {
   "cell_type": "code",
   "execution_count": 102,
   "id": "2f4a42e8",
   "metadata": {},
   "outputs": [
    {
     "name": "stdout",
     "output_type": "stream",
     "text": [
      "There is no significant difference.\n"
     ]
    }
   ],
   "source": [
    "p_value_wbc = t_test('wbc', 0.05)"
   ]
  },
  {
   "cell_type": "code",
   "execution_count": 103,
   "id": "96cebfd5",
   "metadata": {},
   "outputs": [
    {
     "data": {
      "text/plain": [
       "0.5094775322580585"
      ]
     },
     "execution_count": 103,
     "metadata": {},
     "output_type": "execute_result"
    }
   ],
   "source": [
    "p_value_wbc"
   ]
  },
  {
   "cell_type": "code",
   "execution_count": 104,
   "id": "f22721f2",
   "metadata": {},
   "outputs": [
    {
     "name": "stdout",
     "output_type": "stream",
     "text": [
      "There is no significant difference.\n"
     ]
    }
   ],
   "source": [
    "p_value_rbc = t_test('rbc', 0.05)"
   ]
  },
  {
   "cell_type": "code",
   "execution_count": 105,
   "id": "c247d9ca",
   "metadata": {},
   "outputs": [
    {
     "data": {
      "text/plain": [
       "0.06821193346979416"
      ]
     },
     "execution_count": 105,
     "metadata": {},
     "output_type": "execute_result"
    }
   ],
   "source": [
    "p_value_rbc"
   ]
  },
  {
   "cell_type": "code",
   "execution_count": 106,
   "id": "7adc8fbd",
   "metadata": {},
   "outputs": [
    {
     "name": "stdout",
     "output_type": "stream",
     "text": [
      "There is no significant difference.\n"
     ]
    }
   ],
   "source": [
    "p_value_num_effects = t_test('num_effects', 0.05)"
   ]
  },
  {
   "cell_type": "code",
   "execution_count": 107,
   "id": "479b966f",
   "metadata": {},
   "outputs": [
    {
     "data": {
      "text/plain": [
       "0.48503538645811195"
      ]
     },
     "execution_count": 107,
     "metadata": {},
     "output_type": "execute_result"
    }
   ],
   "source": [
    "p_value_num_effects"
   ]
  },
  {
   "cell_type": "code",
   "execution_count": 108,
   "id": "f008868f",
   "metadata": {},
   "outputs": [
    {
     "name": "stdout",
     "output_type": "stream",
     "text": [
      "There is no significant difference.\n"
     ]
    }
   ],
   "source": [
    "p_value_adverse_effects = t_test('adverse_effects', 0.05)"
   ]
  },
  {
   "cell_type": "code",
   "execution_count": 109,
   "id": "0fd02f72",
   "metadata": {},
   "outputs": [
    {
     "data": {
      "text/plain": [
       "0.54539110892564"
      ]
     },
     "execution_count": 109,
     "metadata": {},
     "output_type": "execute_result"
    }
   ],
   "source": [
    "p_value_adverse_effects"
   ]
  },
  {
   "cell_type": "markdown",
   "id": "887366ac",
   "metadata": {},
   "source": [
    "now changing alpha to 0.1"
   ]
  },
  {
   "cell_type": "code",
   "execution_count": 110,
   "id": "31d9c338",
   "metadata": {},
   "outputs": [
    {
     "name": "stdout",
     "output_type": "stream",
     "text": [
      "There is no significant difference.\n"
     ]
    }
   ],
   "source": [
    "p_value_wbc = t_test('wbc', 0.1)"
   ]
  },
  {
   "cell_type": "code",
   "execution_count": 111,
   "id": "e85f0ede",
   "metadata": {},
   "outputs": [
    {
     "data": {
      "text/plain": [
       "0.5094775322580585"
      ]
     },
     "execution_count": 111,
     "metadata": {},
     "output_type": "execute_result"
    }
   ],
   "source": [
    "p_value_wbc"
   ]
  },
  {
   "cell_type": "code",
   "execution_count": 114,
   "id": "d0df6f0b",
   "metadata": {},
   "outputs": [
    {
     "name": "stdout",
     "output_type": "stream",
     "text": [
      "There is a significant difference.\n"
     ]
    }
   ],
   "source": [
    "p_value_rbc = t_test('rbc', 0.1)"
   ]
  },
  {
   "cell_type": "code",
   "execution_count": 113,
   "id": "958f1742",
   "metadata": {},
   "outputs": [
    {
     "data": {
      "text/plain": [
       "0.06821193346979416"
      ]
     },
     "execution_count": 113,
     "metadata": {},
     "output_type": "execute_result"
    }
   ],
   "source": [
    "p_value_rbc"
   ]
  },
  {
   "cell_type": "code",
   "execution_count": 115,
   "id": "180943e8",
   "metadata": {},
   "outputs": [
    {
     "name": "stdout",
     "output_type": "stream",
     "text": [
      "There is no significant difference.\n"
     ]
    }
   ],
   "source": [
    "p_value_num_effects = t_test('num_effects', 0.1)"
   ]
  },
  {
   "cell_type": "code",
   "execution_count": 116,
   "id": "c4dd31ce",
   "metadata": {},
   "outputs": [
    {
     "data": {
      "text/plain": [
       "0.48503538645811195"
      ]
     },
     "execution_count": 116,
     "metadata": {},
     "output_type": "execute_result"
    }
   ],
   "source": [
    "p_value_num_effects"
   ]
  },
  {
   "cell_type": "code",
   "execution_count": 117,
   "id": "f01eaf9a",
   "metadata": {},
   "outputs": [
    {
     "name": "stdout",
     "output_type": "stream",
     "text": [
      "There is no significant difference.\n"
     ]
    }
   ],
   "source": [
    "p_value_adverse_effects = t_test('adverse_effects', 0.1)"
   ]
  },
  {
   "cell_type": "code",
   "execution_count": 118,
   "id": "09c23975",
   "metadata": {},
   "outputs": [
    {
     "data": {
      "text/plain": [
       "0.54539110892564"
      ]
     },
     "execution_count": 118,
     "metadata": {},
     "output_type": "execute_result"
    }
   ],
   "source": [
    "p_value_adverse_effects"
   ]
  },
  {
   "cell_type": "markdown",
   "id": "425e0036",
   "metadata": {},
   "source": [
    "by changing alpha we observe just 'rbc' metric differs from drug group to placebo group."
   ]
  },
  {
   "cell_type": "code",
   "execution_count": null,
   "id": "941c61b2",
   "metadata": {},
   "outputs": [],
   "source": []
  }
 ],
 "metadata": {
  "kernelspec": {
   "display_name": "Python 3 (ipykernel)",
   "language": "python",
   "name": "python3"
  },
  "language_info": {
   "codemirror_mode": {
    "name": "ipython",
    "version": 3
   },
   "file_extension": ".py",
   "mimetype": "text/x-python",
   "name": "python",
   "nbconvert_exporter": "python",
   "pygments_lexer": "ipython3",
   "version": "3.12.3"
  }
 },
 "nbformat": 4,
 "nbformat_minor": 5
}
